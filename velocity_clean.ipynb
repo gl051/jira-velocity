{
 "cells": [
  {
   "cell_type": "code",
   "execution_count": null,
   "metadata": {},
   "outputs": [],
   "source": [
    "import pandas as pd\n",
    "import os\n",
    "from datetime import datetime\n",
    "%matplotlib inline\n",
    "\n",
    "\n",
    "JIRA_FILE=\"platform-sprint-19.12.1.csv\"\n",
    "NOTEBOOK_NAME=\"velocity\"\n",
    "\n",
    "# Save your notebook and run this cell to create a cleaned file for version control:\n",
    "notebook_path = os.path.join(os.getcwd(),f'{NOTEBOOK_NAME}.ipynb')\n",
    "cleaned_path = os.path.join(os.getcwd(),f'{NOTEBOOK_NAME}_clean.ipynb')\n",
    "\n",
    "#Bash command below:\n",
    "!cat {notebook_path} | nbstripout > {cleaned_path}\n",
    "\n",
    "date_str = datetime.now().strftime('%Y-%m-%d %H:%M:%S')\n",
    "print('{0} Cleaned file created at: {1}'.format(date_str, cleaned_path))"
   ]
  },
  {
   "cell_type": "code",
   "execution_count": null,
   "metadata": {},
   "outputs": [],
   "source": []
  },
  {
   "cell_type": "code",
   "execution_count": null,
   "metadata": {},
   "outputs": [],
   "source": [
    "sprint = pd.read_csv(JIRA_FILE)"
   ]
  },
  {
   "cell_type": "code",
   "execution_count": null,
   "metadata": {},
   "outputs": [],
   "source": [
    "# Clean up columns name\n",
    "\n",
    "sprint.columns = sprint.columns.str.strip().str.lower().str.replace(' ', '_').str.replace('(', '').str.replace(')', '')"
   ]
  },
  {
   "cell_type": "code",
   "execution_count": null,
   "metadata": {},
   "outputs": [],
   "source": [
    "# columns \n",
    "sprint.columns"
   ]
  },
  {
   "cell_type": "code",
   "execution_count": null,
   "metadata": {},
   "outputs": [],
   "source": [
    "sprint.project_key.value_counts()"
   ]
  },
  {
   "cell_type": "code",
   "execution_count": null,
   "metadata": {},
   "outputs": [],
   "source": [
    "sprint.head()"
   ]
  },
  {
   "cell_type": "code",
   "execution_count": null,
   "metadata": {},
   "outputs": [],
   "source": [
    "# Total points completed\n",
    "sprint.custom_field_story_points.sum()"
   ]
  },
  {
   "cell_type": "code",
   "execution_count": null,
   "metadata": {},
   "outputs": [],
   "source": [
    "sprint.groupby(\"project_key\").custom_field_story_points.sum()"
   ]
  },
  {
   "cell_type": "code",
   "execution_count": null,
   "metadata": {},
   "outputs": [],
   "source": [
    "# PLTF - Group by Workkstream \n",
    "sprint.groupby([\"project_key\", \"custom_field_workstream\"]).custom_field_story_points.sum()"
   ]
  },
  {
   "cell_type": "code",
   "execution_count": null,
   "metadata": {},
   "outputs": [],
   "source": [
    "sprint.groupby([\"project_key\", \"custom_field_workstream\"]).custom_field_story_points.sum().plot.bar()"
   ]
  },
  {
   "cell_type": "code",
   "execution_count": null,
   "metadata": {},
   "outputs": [],
   "source": []
  }
 ],
 "metadata": {
  "kernelspec": {
   "display_name": "Python 3",
   "language": "python",
   "name": "python3"
  },
  "language_info": {
   "codemirror_mode": {
    "name": "ipython",
    "version": 3
   },
   "file_extension": ".py",
   "mimetype": "text/x-python",
   "name": "python",
   "nbconvert_exporter": "python",
   "pygments_lexer": "ipython3",
   "version": "3.8.0"
  }
 },
 "nbformat": 4,
 "nbformat_minor": 2
}
